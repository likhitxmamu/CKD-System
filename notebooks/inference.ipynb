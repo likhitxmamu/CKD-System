{
 "cells": [
  {
   "cell_type": "markdown",
   "metadata": {},
   "source": [
    "Import dependencies"
   ]
  },
  {
   "cell_type": "code",
   "execution_count": 1,
   "metadata": {},
   "outputs": [],
   "source": [
    "import pandas as pd\n",
    "import os\n",
    "import sys\n"
   ]
  },
  {
   "cell_type": "code",
   "execution_count": 2,
   "metadata": {},
   "outputs": [],
   "source": [
    "\n",
    "sys.path.append('c:\\\\Users\\\\salah\\\\CKD\\\\src')\n",
    "\n",
    "from model import define_and_train_models , save_models\n",
    "from preprocessing import preprocess_data"
   ]
  },
  {
   "cell_type": "code",
   "execution_count": 3,
   "metadata": {},
   "outputs": [],
   "source": [
    "DATA_PATH = '../data/raw.csv'\n",
    "TARGET_COLUMN = 'classification' "
   ]
  },
  {
   "cell_type": "code",
   "execution_count": 4,
   "metadata": {},
   "outputs": [
    {
     "name": "stdout",
     "output_type": "stream",
     "text": [
      "Training Logistic Regression...\n",
      "Training SVM...\n",
      "Training Decision Tree...\n",
      "Training Random Forest...\n",
      "Training Gradient Boosting...\n"
     ]
    },
    {
     "name": "stderr",
     "output_type": "stream",
     "text": [
      "c:\\Users\\salah\\AppData\\Local\\Programs\\Python\\Python311\\Lib\\site-packages\\sklearn\\linear_model\\_logistic.py:460: ConvergenceWarning: lbfgs failed to converge (status=1):\n",
      "STOP: TOTAL NO. of ITERATIONS REACHED LIMIT.\n",
      "\n",
      "Increase the number of iterations (max_iter) or scale the data as shown in:\n",
      "    https://scikit-learn.org/stable/modules/preprocessing.html\n",
      "Please also refer to the documentation for alternative solver options:\n",
      "    https://scikit-learn.org/stable/modules/linear_model.html#logistic-regression\n",
      "  n_iter_i = _check_optimize_result(\n"
     ]
    },
    {
     "name": "stdout",
     "output_type": "stream",
     "text": [
      "Training XGBoost...\n",
      "Training CatBoost...\n",
      "Training K-Nearest Neighbors...\n",
      "Training Naive Bayes...\n",
      "All models have been trained successfully.\n",
      "\n"
     ]
    }
   ],
   "source": [
    "# Preprocessing\n",
    "X, y = preprocess_data(DATA_PATH , TARGET_COLUMN)\n",
    "\n",
    "#train the models\n",
    "trained_models = define_and_train_models(X, y)\n"
   ]
  },
  {
   "cell_type": "code",
   "execution_count": 49,
   "metadata": {},
   "outputs": [
    {
     "name": "stdout",
     "output_type": "stream",
     "text": [
      "Saved Logistic Regression to ../models/Logistic_Regression.pkl\n",
      "Saved SVM to ../models/SVM.pkl\n",
      "Saved Decision Tree to ../models/Decision_Tree.pkl\n",
      "Saved Random Forest to ../models/Random_Forest.pkl\n",
      "Saved Gradient Boosting to ../models/Gradient_Boosting.pkl\n",
      "Saved XGBoost to ../models/XGBoost.pkl\n",
      "Saved CatBoost to ../models/CatBoost.pkl\n",
      "Saved K-Nearest Neighbors to ../models/K-Nearest_Neighbors.pkl\n",
      "Saved Naive Bayes to ../models/Naive_Bayes.pkl\n",
      "All models have been saved successfully.\n"
     ]
    }
   ],
   "source": [
    "#save the models\n",
    "save_models(trained_models, models_dir=\"../models/\")"
   ]
  }
 ],
 "metadata": {
  "kernelspec": {
   "display_name": "Python 3",
   "language": "python",
   "name": "python3"
  },
  "language_info": {
   "codemirror_mode": {
    "name": "ipython",
    "version": 3
   },
   "file_extension": ".py",
   "mimetype": "text/x-python",
   "name": "python",
   "nbconvert_exporter": "python",
   "pygments_lexer": "ipython3",
   "version": "3.11.5"
  }
 },
 "nbformat": 4,
 "nbformat_minor": 2
}
